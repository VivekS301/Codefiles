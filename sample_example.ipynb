{
 "cells": [
  {
   "cell_type": "code",
   "execution_count": 1,
   "id": "6281d89b",
   "metadata": {},
   "outputs": [],
   "source": [
    "#Import Libraries\n",
    "import pyspark\n",
    "from pyspark import SQLContext"
   ]
  },
  {
   "cell_type": "code",
   "execution_count": 2,
   "id": "e8ccb159",
   "metadata": {},
   "outputs": [],
   "source": [
    "# Setup the Configuration\n",
    "conf = pyspark.SparkConf()\n",
    "spark_context = SparkSession.builder.getOrCreate()\n",
    "\n",
    "# Add Data\n",
    "data = ([(1580, \"John\", \"Doe\", \"Mars\" ),\n",
    "(5820, \"Jane\", \"Doe\", \"Venus\"),\n",
    "(2340, \"Kid1\", \"Doe\", \"Jupyter\"),\n",
    "(7860, \"Kid2\", \"Doe\", \"Saturn\")\n",
    "])\n",
    "\n",
    "# Setup the Data Frame\n",
    "user_data_df = spark_context.createDataFrame(data)"
   ]
  },
  {
   "cell_type": "code",
   "execution_count": 3,
   "id": "39148290",
   "metadata": {},
   "outputs": [
    {
     "name": "stdout",
     "output_type": "stream",
     "text": [
      "+----+----+---+-------+\n",
      "|  _1|  _2| _3|     _4|\n",
      "+----+----+---+-------+\n",
      "|1580|John|Doe|   Mars|\n",
      "|5820|Jane|Doe|  Venus|\n",
      "|2340|Kid1|Doe|Jupyter|\n",
      "|7860|Kid2|Doe| Saturn|\n",
      "+----+----+---+-------+\n",
      "\n"
     ]
    }
   ],
   "source": [
    "# Display the Data Frame\n",
    "user_data_df.show()"
   ]
  },
  {
   "cell_type": "code",
   "execution_count": null,
   "id": "6b03a0cc",
   "metadata": {},
   "outputs": [],
   "source": []
  }
 ],
 "metadata": {
  "kernelspec": {
   "display_name": "Python 3 (ipykernel)",
   "language": "python",
   "name": "python3"
  },
  "language_info": {
   "codemirror_mode": {
    "name": "ipython",
    "version": 3
   },
   "file_extension": ".py",
   "mimetype": "text/x-python",
   "name": "python",
   "nbconvert_exporter": "python",
   "pygments_lexer": "ipython3",
   "version": "3.9.13"
  }
 },
 "nbformat": 4,
 "nbformat_minor": 5
}
